{
 "cells": [
  {
   "cell_type": "code",
   "execution_count": 1,
   "metadata": {},
   "outputs": [
    {
     "name": "stdout",
     "output_type": "stream",
     "text": [
      "Prediction before training: f(5.0) = 0.000\n"
     ]
    }
   ],
   "source": [
    "import torch\n",
    "\n",
    "\"\"\"\n",
    "---> Linear regression with autograd\n",
    "f = w*x + b\n",
    "here: f = 2 * x\n",
    "\"\"\"\n",
    "\n",
    "X = torch.tensor([1,2,3,4,5,6,7,8], dtype=torch.float32)\n",
    "Y = torch.tensor([2,4,6,8,10,12,14,16], dtype=torch.float32)\n",
    "\n",
    "w = torch.tensor(0.0, dtype=torch.float32, requires_grad=True)\n",
    "\n",
    "# model output\n",
    "def forward(x):\n",
    "    return w * x\n",
    "\n",
    "# loss = MSE\n",
    "def loss(y,y_pred):\n",
    "    return ((y_pred - y)**2).mean()\n",
    "\n",
    "X_test = 5.0\n",
    "\n",
    "print(f\"Prediction before training: f({X_test}) = {forward(X_test).item():.3f}\")"
   ]
  },
  {
   "cell_type": "code",
   "execution_count": 2,
   "metadata": {},
   "outputs": [
    {
     "name": "stdout",
     "output_type": "stream",
     "text": [
      "epoch 10: w=1.998, loss = 0.000\n",
      "epoch 20: w=2.000, loss = 0.000\n",
      "epoch 30: w=2.000, loss = 0.000\n",
      "epoch 40: w=2.000, loss = 0.000\n",
      "epoch 50: w=2.000, loss = 0.000\n",
      "epoch 60: w=2.000, loss = 0.000\n",
      "epoch 70: w=2.000, loss = 0.000\n",
      "epoch 80: w=2.000, loss = 0.000\n",
      "epoch 90: w=2.000, loss = 0.000\n",
      "epoch 100: w=2.000, loss = 0.000\n",
      "Prediction after training: f(5.0) = 10.000\n"
     ]
    }
   ],
   "source": [
    "# Training\n",
    "learning_rate = 0.01\n",
    "n_epochs = 100\n",
    "\n",
    "for epoch in range(n_epochs):\n",
    "    # predict = forward_pass\n",
    "    y_pred = forward(X)\n",
    "    \n",
    "    # loss\n",
    "    l = loss(Y, y_pred)\n",
    "    \n",
    "    # calculate gradients = backward pass\n",
    "    l.backward()\n",
    "    \n",
    "    # update weights\n",
    "    # w.data = w.data - learning_rate * w.grad\n",
    "    with torch.no_grad(): # we don't want to track history of w\n",
    "        w -= learning_rate * w.grad\n",
    "        \n",
    "    # zero the gradients after updating\n",
    "    w.grad.zero_()\n",
    "\n",
    "    \n",
    "    if (epoch+1) % 10 == 0:\n",
    "        print(f\"epoch {epoch+1}: w={w.item():.3f}, loss = {l.item():.3f}\")\n",
    "        \n",
    "print(f\"Prediction after training: f({X_test}) = {forward(X_test).item():.3f}\")"
   ]
  }
 ],
 "metadata": {
  "kernelspec": {
   "display_name": "torch",
   "language": "python",
   "name": "python3"
  },
  "language_info": {
   "codemirror_mode": {
    "name": "ipython",
    "version": 3
   },
   "file_extension": ".py",
   "mimetype": "text/x-python",
   "name": "python",
   "nbconvert_exporter": "python",
   "pygments_lexer": "ipython3",
   "version": "3.11.3"
  },
  "orig_nbformat": 4
 },
 "nbformat": 4,
 "nbformat_minor": 2
}
