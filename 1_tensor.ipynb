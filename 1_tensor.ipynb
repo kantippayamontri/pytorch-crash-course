{
 "cells": [
  {
   "cell_type": "code",
   "execution_count": 7,
   "metadata": {},
   "outputs": [
    {
     "name": "stdout",
     "output_type": "stream",
     "text": [
      "empty(1): tensor([4.8628e+33])\n",
      "empty(3): tensor([3.5873e-43, 0.0000e+00, 5.0072e+33])\n",
      "empty(2,3): tensor([[1.6853e+22, 5.3779e+22, 1.6411e-07],\n",
      "        [8.4710e-07, 5.3642e-08, 2.1748e+23]])\n",
      "empty(2,2,3): tensor([[[1.4013e-45, 0.0000e+00, 1.4013e-45],\n",
      "         [0.0000e+00, 1.4013e-45, 0.0000e+00]],\n",
      "\n",
      "        [[1.4013e-45, 0.0000e+00, 1.4013e-45],\n",
      "         [0.0000e+00, 1.4013e-45, 0.0000e+00]]])\n",
      "torch.rand(5,3): tensor([[0.4563, 0.2799, 0.9275],\n",
      "        [0.4697, 0.1239, 0.1435],\n",
      "        [0.9711, 0.9592, 0.5413],\n",
      "        [0.6499, 0.2360, 0.1055],\n",
      "        [0.7113, 0.3207, 0.1988]])\n",
      "torch.ones(5,3): tensor([[1., 1., 1.],\n",
      "        [1., 1., 1.],\n",
      "        [1., 1., 1.],\n",
      "        [1., 1., 1.],\n",
      "        [1., 1., 1.]])\n",
      "torch.zeros(5,3): tensor([[0., 0., 0.],\n",
      "        [0., 0., 0.],\n",
      "        [0., 0., 0.],\n",
      "        [0., 0., 0.],\n",
      "        [0., 0., 0.]])\n"
     ]
    }
   ],
   "source": [
    "import torch\n",
    "\n",
    "#1. Tensor \n",
    "x = torch.empty(1) # scalar\n",
    "print(f\"empty(1):\" , x)\n",
    "\n",
    "x = torch.empty(3) # vector\n",
    "print(f\"empty(3):\" , x) \n",
    "\n",
    "x = torch.empty(2,3) # matrix\n",
    "print(f\"empty(2,3):\" , x)\n",
    "\n",
    "x = torch.empty(2,2,3)\n",
    "print(f\"empty(2,2,3):\" , x)\n",
    "\n",
    "x = torch.rand(5,3) # ramdom number btw [0,1]\n",
    "print(\"torch.rand(5,3):\",x)\n",
    "\n",
    "x = torch.ones(5,3) # fill 1\n",
    "print(\"torch.ones(5,3):\",x)\n",
    "\n",
    "x = torch.zeros(5,3) # fill 0\n",
    "print(\"torch.zeros(5,3):\",x)"
   ]
  },
  {
   "cell_type": "code",
   "execution_count": 10,
   "metadata": {},
   "outputs": [
    {
     "name": "stdout",
     "output_type": "stream",
     "text": [
      "size: torch.Size([5, 3])\n",
      "size(0) 5\n",
      "shape torch.Size([5, 3])\n",
      "shape[0] 5\n"
     ]
    }
   ],
   "source": [
    "# check size\n",
    "print(\"size:\",x.size())\n",
    "print(\"size(0)\",x.size(0)) # access with argument\n",
    "\n",
    "print(\"shape\",x.shape)\n",
    "print(\"shape[0]\",x.shape[0]) # access with index"
   ]
  },
  {
   "cell_type": "code",
   "execution_count": 14,
   "metadata": {},
   "outputs": [
    {
     "name": "stdout",
     "output_type": "stream",
     "text": [
      "torch.float16\n",
      "tensor([[0., 0., 0.],\n",
      "        [0., 0., 0.],\n",
      "        [0., 0., 0.],\n",
      "        [0., 0., 0.],\n",
      "        [0., 0., 0.]], dtype=torch.float16)\n",
      "torch.float16\n"
     ]
    }
   ],
   "source": [
    "# check data type\n",
    "print(x.dtype)\n",
    "\n",
    "# specify types, float32 default\n",
    "x = torch.zeros(5,3, dtype=torch.float16)\n",
    "print(x)\n",
    "\n",
    "# check type\n",
    "print(x.dtype)"
   ]
  },
  {
   "cell_type": "code",
   "execution_count": 15,
   "metadata": {},
   "outputs": [
    {
     "name": "stdout",
     "output_type": "stream",
     "text": [
      "tensor([5.5000, 3.0000]) torch.float32\n"
     ]
    }
   ],
   "source": [
    "# construct from data\n",
    "x = torch.tensor([5.5, 3])\n",
    "print(x, x.dtype)"
   ]
  },
  {
   "cell_type": "code",
   "execution_count": 16,
   "metadata": {},
   "outputs": [
    {
     "name": "stdout",
     "output_type": "stream",
     "text": [
      "tensor([5.5000, 3.0000], requires_grad=True)\n"
     ]
    }
   ],
   "source": [
    "# require_grad argument\n",
    "# This will tell pytorch that it will need to calculate the gradients for this tensor\n",
    "# later in your optimization steps \n",
    "# i.e. this is a variable in your model that you want to optimize\n",
    "# default = False\n",
    "x = torch.tensor([5.5,3], requires_grad=True)\n",
    "print(x)"
   ]
  },
  {
   "cell_type": "code",
   "execution_count": 20,
   "metadata": {},
   "outputs": [
    {
     "name": "stdout",
     "output_type": "stream",
     "text": [
      "tensor([[1.6447, 1.1669],\n",
      "        [1.8677, 1.7070]])\n",
      "tensor([[1.6447, 1.1669],\n",
      "        [1.8677, 1.7070]])\n",
      "\n",
      "tensor([[1., 1.],\n",
      "        [1., 1.]])\n",
      "tensor([[0.6447, 0.1669],\n",
      "        [0.8677, 0.7070]])\n",
      "tensor([[1.6447, 1.1669],\n",
      "        [1.8677, 1.7070]])\n",
      "tensor([[1.6447, 1.1669],\n",
      "        [1.8677, 1.7070]])\n"
     ]
    }
   ],
   "source": [
    "# Operation\n",
    "x = torch.ones(2,2)\n",
    "y = torch.rand(2,2)\n",
    "\n",
    "# elementwise addition\n",
    "z = x + y\n",
    "print(z)\n",
    "print(torch.add(x,y)) #return tensor\n",
    "print()\n",
    "# in place addition, everything with a _ symbol = inplace operation\n",
    "# i.e. it will modify the variable\n",
    "# y.add_(x)\n",
    "\n",
    "print(x)\n",
    "print(y)\n",
    "print(z)\n",
    "print(y.add_(x))"
   ]
  },
  {
   "cell_type": "code",
   "execution_count": 21,
   "metadata": {},
   "outputs": [
    {
     "name": "stdout",
     "output_type": "stream",
     "text": [
      "tensor([[-0.6447, -0.1669],\n",
      "        [-0.8677, -0.7070]])\n",
      "tensor([[1.6447, 1.1669],\n",
      "        [1.8677, 1.7070]])\n",
      "tensor([[0.6080, 0.8570],\n",
      "        [0.5354, 0.5858]])\n"
     ]
    }
   ],
   "source": [
    "# subtraction \n",
    "z = x - y\n",
    "z = torch.sub(x,y)\n",
    "print(z)\n",
    "\n",
    "# multiplication\n",
    "z = x * y\n",
    "z = torch.mul(x,y)\n",
    "print(z)\n",
    "\n",
    "# division\n",
    "z = x / y\n",
    "z = torch.div(x,y)\n",
    "print(z)"
   ]
  },
  {
   "cell_type": "code",
   "execution_count": 24,
   "metadata": {},
   "outputs": [
    {
     "name": "stdout",
     "output_type": "stream",
     "text": [
      "tensor([[0.5547, 0.7607, 0.9350],\n",
      "        [0.5759, 0.5815, 0.8015],\n",
      "        [0.0365, 0.1241, 0.9106],\n",
      "        [0.7509, 0.3969, 0.2407],\n",
      "        [0.9198, 0.7302, 0.6738]])\n",
      "x[:,0] tensor([0.5547, 0.5759, 0.0365, 0.7509, 0.9198])\n",
      "x[1,:] tensor([0.5759, 0.5815, 0.8015])\n",
      "x[1,1] tensor(0.5815)\n",
      "x[1,1].item() 0.5814944505691528\n"
     ]
    }
   ],
   "source": [
    "# slicing\n",
    "x = torch.rand(5,3)\n",
    "print(x)\n",
    "print(\"x[:,0]\", x[:,0]) # all rows, column 0\n",
    "print(\"x[1,:]\",x[1,:]) # rows 1, all column\n",
    "print(\"x[1,1]\",x[1,1]) # element at 1,1 -> return tensor\n",
    "\n",
    "# Get the actual value if only 1 element in your tensor\n",
    "print(\"x[1,1].item()\",x[1,1].item()) # return actual value"
   ]
  },
  {
   "cell_type": "code",
   "execution_count": 26,
   "metadata": {},
   "outputs": [
    {
     "name": "stdout",
     "output_type": "stream",
     "text": [
      "torch.Size([4, 4]) torch.Size([16]) torch.Size([2, 8])\n"
     ]
    }
   ],
   "source": [
    "# reshape with torch.view()\n",
    "x = torch.randn(4,4)\n",
    "y = x.view(16)\n",
    "z = x.view(-1,8) # the size -1 -> pytorch will automatically determine the necessary size\n",
    "print(x.size(), y.size(), z.size())"
   ]
  },
  {
   "cell_type": "code",
   "execution_count": 30,
   "metadata": {},
   "outputs": [
    {
     "name": "stdout",
     "output_type": "stream",
     "text": [
      "tensor([1., 1., 1., 1., 1.])\n",
      "[1. 1. 1. 1. 1.]\n",
      "<class 'numpy.ndarray'>\n"
     ]
    }
   ],
   "source": [
    "# Numpy\n",
    "# convert from tensor to numpy\n",
    "\n",
    "a = torch.ones(5)\n",
    "print(a)\n",
    "\n",
    "b = a.numpy()\n",
    "# a.add_(1)\n",
    "print(b)\n",
    "print(type(b))"
   ]
  },
  {
   "cell_type": "code",
   "execution_count": 31,
   "metadata": {},
   "outputs": [
    {
     "name": "stdout",
     "output_type": "stream",
     "text": [
      "tensor([2., 2., 2., 2., 2.])\n",
      "[2. 2. 2. 2. 2.]\n"
     ]
    }
   ],
   "source": [
    "# Careful: If the tensor is on the CPU (not the GPU)\n",
    "# both objects will share the same memory location, so changing one \n",
    "# will also change the other\n",
    "a.add_(1)\n",
    "print(a)\n",
    "print(b)"
   ]
  },
  {
   "cell_type": "code",
   "execution_count": 36,
   "metadata": {},
   "outputs": [
    {
     "name": "stdout",
     "output_type": "stream",
     "text": [
      "[1. 1. 1. 1. 1.]\n",
      "tensor([1., 1., 1., 1., 1.], dtype=torch.float64)\n",
      "tensor([1., 1., 1., 1., 1.], dtype=torch.float64)\n",
      "\n",
      "[2. 2. 2. 2. 2.]\n",
      "tensor([2., 2., 2., 2., 2.], dtype=torch.float64)\n",
      "tensor([1., 1., 1., 1., 1.], dtype=torch.float64)\n"
     ]
    }
   ],
   "source": [
    "# convert from numpy to tensor\n",
    "import numpy as np\n",
    "\n",
    "a = np.ones(5)\n",
    "b = torch.from_numpy(a) # share the same memory\n",
    "c = torch.tensor(a) # copy -> new variable\n",
    "\n",
    "print(a)\n",
    "print(b)\n",
    "print(c)\n",
    "\n",
    "a +=1\n",
    "print()\n",
    "# del a\n",
    "print(a)\n",
    "print(b)\n",
    "print(c)\n",
    "\n"
   ]
  },
  {
   "cell_type": "code",
   "execution_count": 42,
   "metadata": {},
   "outputs": [],
   "source": [
    "# GPU Support\n",
    "\n",
    "device = torch.device(\"cuda\" if torch.cuda.is_available() else \"cpu\")\n",
    "# if you have more than 1 gpu -> device0 = ... \"cuda:0\" ; device1 = ... \"cuda:1\"\n",
    "x = torch.rand(2,2).to(device) # move tensors to GPU device\n",
    "#x = x.to(\"cpu\")\n",
    "#x = x.to(\"cuda\")\n",
    "\n",
    "x = torch.rand(2,2,device=device) # or directly create them on GPU"
   ]
  },
  {
   "cell_type": "code",
   "execution_count": 44,
   "metadata": {},
   "outputs": [
    {
     "name": "stdout",
     "output_type": "stream",
     "text": [
      "tensor([1., 1., 1., 1., 1.], device='cuda:0')\n",
      "[1. 1. 1. 1. 1.]\n",
      "<class 'numpy.ndarray'>\n"
     ]
    }
   ],
   "source": [
    "a = torch.ones(5,device=device)\n",
    "print(a)\n",
    "\n",
    "b = a.cpu().numpy() # copy value to cpu first and then convert to numpy -> doesn't share the same memory\n",
    "a.add_(1)\n",
    "print(b)\n",
    "print(type(b))"
   ]
  }
 ],
 "metadata": {
  "kernelspec": {
   "display_name": "torch",
   "language": "python",
   "name": "python3"
  },
  "language_info": {
   "codemirror_mode": {
    "name": "ipython",
    "version": 3
   },
   "file_extension": ".py",
   "mimetype": "text/x-python",
   "name": "python",
   "nbconvert_exporter": "python",
   "pygments_lexer": "ipython3",
   "version": "3.11.3"
  },
  "orig_nbformat": 4
 },
 "nbformat": 4,
 "nbformat_minor": 2
}
