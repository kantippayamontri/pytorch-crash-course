{
 "cells": [
  {
   "cell_type": "code",
   "execution_count": 3,
   "metadata": {},
   "outputs": [
    {
     "name": "stdout",
     "output_type": "stream",
     "text": [
      "n_samples = 8, n_features = 1\n"
     ]
    }
   ],
   "source": [
    "\"\"\"\n",
    "Pytorch pipline\n",
    " -> Design model (input, output, forward pass with different layers)\n",
    " -> Construct loss and optimizer\n",
    " -> Training loop:\n",
    "    -> Forward = compute prediction and loss\n",
    "    -> Backward = compute gradients\n",
    "    -> Update weights\n",
    "\"\"\"\n",
    "\n",
    "import torch\n",
    "import torch.nn as nn # neural network module\n",
    "\n",
    "# Linear regression\n",
    "# f = w * x\n",
    "# here: f = 2 * x\n",
    "\n",
    "# 0) Training samples, watch the shape!\n",
    "X = torch.tensor([[1],[2],[3],[4],[5],[6],[7],[8]], dtype=torch.float32) # specific shape\n",
    "Y = torch.tensor([[2],[4],[6],[8],[10],[12],[14],[16]], dtype=torch.float32)\n",
    "\n",
    "n_samples, n_features = X.shape\n",
    "print(f\"n_samples = {n_samples}, n_features = {n_features}\")\n",
    "\n",
    "# 0) create a test sample \n",
    "X_test = torch.tensor([5], dtype=torch.float32)"
   ]
  },
  {
   "cell_type": "code",
   "execution_count": 6,
   "metadata": {},
   "outputs": [
    {
     "name": "stdout",
     "output_type": "stream",
     "text": [
      "Prediction before training: f(5.0) = 2.701\n",
      "epoch 10: w = 1.898, loss = 0.068\n",
      "epoch 20: w = 1.903, loss = 0.062\n",
      "epoch 30: w = 1.906, loss = 0.058\n",
      "epoch 40: w = 1.910, loss = 0.053\n",
      "epoch 50: w = 1.914, loss = 0.049\n",
      "epoch 60: w = 1.917, loss = 0.045\n",
      "epoch 70: w = 1.920, loss = 0.042\n",
      "epoch 80: w = 1.923, loss = 0.039\n",
      "epoch 90: w = 1.926, loss = 0.036\n",
      "epoch 100: w = 1.929, loss = 0.033\n",
      "Prediction after training: f(5.0) = 10.044\n"
     ]
    }
   ],
   "source": [
    "# 1) Design Model, the model has to implement the forward pass!\n",
    "\n",
    "# Here we could simply use a built-in model from PyTorch\n",
    "# model = nn.Linear(input_size, output_size)\n",
    "\n",
    "class LinearRegression(nn.Module): # must inherit from nn.Module\n",
    "    def __init__(self, input_dim, output_dim): # this fn use to define all the layers\n",
    "        super(LinearRegression, self).__init__() # must use this line\n",
    "        #define different layers\n",
    "        self.lin = nn.Linear(input_dim, output_dim)\n",
    "    \n",
    "    def forward(self, x):\n",
    "        return self.lin(x)\n",
    "    \n",
    "input_size, output_size = n_features, n_features\n",
    "\n",
    "model = LinearRegression(input_size, output_size)\n",
    "\n",
    "print(f\"Prediction before training: f({X_test.item()}) = {model(X_test).item():.3f}\") \n",
    "#model(X_test) -> call forward function in LinearRegression class\n",
    "\n",
    "# 2) Define loss and optimizer\n",
    "learning_rate = 0.01\n",
    "n_epochs = 100\n",
    "\n",
    "loss = nn.MSELoss()\n",
    "optimizer = torch.optim.SGD(model.parameters(), lr=learning_rate)\n",
    "# model.parameters() == model weights\n",
    "\n",
    "# 3) Training loop\n",
    "for epoch in range(n_epochs):\n",
    "    # predict = forward pass with our model\n",
    "    y_predicted = model(X) # call forward function\n",
    "    \n",
    "    # loss\n",
    "    l = loss(Y, y_predicted)\n",
    "    \n",
    "    # calculate gradients = backward pass\n",
    "    l.backward()\n",
    "    \n",
    "    # update weights\n",
    "    optimizer.step()\n",
    "    \n",
    "    # zero the gradients after updating\n",
    "    optimizer.zero_grad()\n",
    "    \n",
    "    if (epoch+1) % 10 == 0:\n",
    "        w, b = model.parameters() # unpack parameters\n",
    "        print(f\"epoch {epoch+1}: w = {w[0][0].item():.3f}, loss = {l.item():.3f}\")\n",
    " \n",
    "print(f\"Prediction after training: f({X_test.item()}) = {model(X_test).item():.3f}\")"
   ]
  }
 ],
 "metadata": {
  "kernelspec": {
   "display_name": "torch",
   "language": "python",
   "name": "python3"
  },
  "language_info": {
   "codemirror_mode": {
    "name": "ipython",
    "version": 3
   },
   "file_extension": ".py",
   "mimetype": "text/x-python",
   "name": "python",
   "nbconvert_exporter": "python",
   "pygments_lexer": "ipython3",
   "version": "3.11.3"
  },
  "orig_nbformat": 4
 },
 "nbformat": 4,
 "nbformat_minor": 2
}
